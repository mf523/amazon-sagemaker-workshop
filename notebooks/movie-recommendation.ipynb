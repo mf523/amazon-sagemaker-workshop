{
 "cells": [
  {
   "cell_type": "markdown",
   "metadata": {
    "_cell_guid": "357fefdb-5b94-4c6b-86b7-409ac90a3272",
    "_uuid": "aa0925c43a20225c4a51b295572900ed4a6a60c8"
   },
   "source": [
    "# Collaborative Filtering"
   ]
  },
  {
   "cell_type": "markdown",
   "metadata": {
    "_cell_guid": "ef0456ec-a941-4c8e-bac0-a7bbdf5701d0",
    "_uuid": "a78cc75997937d0ea9428b6c9e0be7e072de600b"
   },
   "source": [
    "Collaborative Filtering simply put uses the \"wisdom of the crowd\" to recommend items. Item based collaborative filtering uses the patterns of users who liked the same movie as me to recommend me a movie (users who liked the movie that I like, also liked these other movies).  Recommendation based on user's input of any movie present in the dataset is done. \n"
   ]
  },
  {
   "cell_type": "code",
   "execution_count": null,
   "metadata": {},
   "outputs": [],
   "source": [
    "!mkdir -p data\n",
    "!wget -O data/ml-100k.zip http://files.grouplens.org/datasets/movielens/ml-100k.zip\n",
    "!unzip -o data/ml-100k.zip -d data\n"
   ]
  },
  {
   "cell_type": "code",
   "execution_count": null,
   "metadata": {
    "_cell_guid": "1e667042-dedf-49dc-8335-7ca24321f69e",
    "_uuid": "3fad59542c25d333616b480fb38a75d9a0ea6a61"
   },
   "outputs": [],
   "source": [
    "import numpy as np \n",
    "import pandas as pd \n",
    "import matplotlib.pyplot as plt\n",
    "#plt.style.use('dark_background')\n",
    "\n",
    "from sklearn.metrics import pairwise_distances\n",
    "from scipy.spatial.distance import cosine, correlation\n",
    "\n",
    "%matplotlib inline\n",
    "\n",
    "from subprocess import check_output\n",
    "print(check_output([\"ls\", \"data\"]).decode(\"utf8\"))\n"
   ]
  },
  {
   "cell_type": "code",
   "execution_count": null,
   "metadata": {
    "_cell_guid": "7ef31c13-fc9e-44f0-bef7-272f02f62dc7",
    "_uuid": "11030de793cce2bf2d7acf3168a007a055df3cfd"
   },
   "outputs": [],
   "source": [
    "import copy\n",
    "import random\n",
    "import numpy as np\n",
    "\n",
    "def shuffle(data):\n",
    "    ret = copy.deepcopy(data)\n",
    "    random.shuffle(ret)\n",
    "    \n",
    "    return ret\n",
    "\n",
    "def data_split(data, ratio=0.2):\n",
    "    tmp = copy.deepcopy(data)\n",
    "    len_up = int(round(len(tmp) * ratio, 0))\n",
    "    len_down = len(tmp) - len_up\n",
    "\n",
    "    idx = np.random.randint(len(tmp), size=len_up)\n",
    "    data_up = tmp[idx,:]\n",
    "    tmp = np.delete(tmp, idx, 0)\n",
    "\n",
    "    data_down = tmp\n",
    "    \n",
    "    return data_up, data_down\n",
    "    "
   ]
  },
  {
   "cell_type": "code",
   "execution_count": null,
   "metadata": {
    "_cell_guid": "7ef31c13-fc9e-44f0-bef7-272f02f62dc7",
    "_uuid": "11030de793cce2bf2d7acf3168a007a055df3cfd"
   },
   "outputs": [],
   "source": [
    "u_cols = ['user_id', 'age', 'sex', 'occupation', 'zip_code']\n",
    "users = pd.read_csv('data/ml-100k/u.user', sep='|', names=u_cols,\n",
    "                    encoding='latin-1', parse_dates=True) \n",
    "\n",
    "users.head()"
   ]
  },
  {
   "cell_type": "code",
   "execution_count": null,
   "metadata": {
    "_cell_guid": "7ef31c13-fc9e-44f0-bef7-272f02f62dc7",
    "_uuid": "11030de793cce2bf2d7acf3168a007a055df3cfd"
   },
   "outputs": [],
   "source": [
    "r_cols = ['user_id', 'movie_id', 'rating', 'unix_timestamp']\n",
    "ratings = pd.read_csv('data/ml-100k/u.data', sep='\\t', names=r_cols,\n",
    "                      encoding='latin-1')\n",
    "\n",
    "ratings.head()"
   ]
  },
  {
   "cell_type": "code",
   "execution_count": null,
   "metadata": {
    "_cell_guid": "7ef31c13-fc9e-44f0-bef7-272f02f62dc7",
    "_uuid": "11030de793cce2bf2d7acf3168a007a055df3cfd"
   },
   "outputs": [],
   "source": [
    "m_cols = ['movie_id', 'title', 'release_date', 'video_release_date', 'imdb_url']\n",
    "movies = pd.read_csv('data/ml-100k/u.item', sep='|', names=m_cols, usecols=range(5),\n",
    "                     encoding='latin-1')\n",
    "\n",
    "movies.head()"
   ]
  },
  {
   "cell_type": "code",
   "execution_count": null,
   "metadata": {
    "_cell_guid": "7ef31c13-fc9e-44f0-bef7-272f02f62dc7",
    "_uuid": "11030de793cce2bf2d7acf3168a007a055df3cfd"
   },
   "outputs": [],
   "source": [
    "movie_ratings = pd.merge(movies, ratings)\n",
    "df = pd.merge(movie_ratings, users)\n",
    "\n",
    "df.head()"
   ]
  },
  {
   "cell_type": "markdown",
   "metadata": {
    "_cell_guid": "f53b095b-7235-4e03-9735-a79eeb021ecc",
    "_uuid": "9898b210df6d35910029e758f0f971f38343d201"
   },
   "source": [
    "# Data Pre-Processing"
   ]
  },
  {
   "cell_type": "code",
   "execution_count": null,
   "metadata": {
    "_cell_guid": "99eb1712-b383-4ee8-b33d-98fbe611f91f",
    "_uuid": "15cd727ef03d38cd56c7a14ddaafc6f1a4f45489"
   },
   "outputs": [],
   "source": [
    "df.drop(df.columns[[3,4,7]], axis=1, inplace=True)\n",
    "ratings.drop( \"unix_timestamp\", inplace = True, axis = 1 ) \n",
    "movies.drop(movies.columns[[3,4]], inplace = True, axis = 1 )\n",
    "#Dropping all the columns that are not really needed\n",
    "df.info()"
   ]
  },
  {
   "cell_type": "code",
   "execution_count": null,
   "metadata": {
    "_cell_guid": "99eb1712-b383-4ee8-b33d-98fbe611f91f",
    "_uuid": "15cd727ef03d38cd56c7a14ddaafc6f1a4f45489"
   },
   "outputs": [],
   "source": [
    "df.head()"
   ]
  },
  {
   "cell_type": "markdown",
   "metadata": {
    "_cell_guid": "aedfbc7a-074a-4f26-8468-3898ef126963",
    "_uuid": "f65a35db1166dba016707d3df91002d7f83f6324"
   },
   "source": [
    "# Movie Ratings"
   ]
  },
  {
   "cell_type": "code",
   "execution_count": null,
   "metadata": {
    "_cell_guid": "049554f6-1d4f-455e-8529-c40fe77286f9",
    "_uuid": "3b68a4d45215ab3a57fda3c1b9aee4c1ceab3882"
   },
   "outputs": [],
   "source": [
    "movie_stats = df.groupby('title').agg({'rating': [np.size, np.mean]})\n",
    "movie_stats.head()\n"
   ]
  },
  {
   "cell_type": "markdown",
   "metadata": {
    "_cell_guid": "504a96b3-ef94-433e-a5ac-f3ca33d3356e",
    "_uuid": "1ed12865abda8bd2a7f803b5b4986f2146a8216f"
   },
   "source": [
    "Setting a threshold of atleast 50 ratings for better analysis."
   ]
  },
  {
   "cell_type": "code",
   "execution_count": null,
   "metadata": {
    "_cell_guid": "9cd8cc7b-e6da-439f-9591-3f4ce4127ee1",
    "_uuid": "c19238b65098f18fa0349898c4437ecdfb8ebc41"
   },
   "outputs": [],
   "source": [
    "min_50 = movie_stats['rating']['size'] >= 50\n",
    "movie_stats[min_50].sort_values([('rating', 'mean')], ascending=False).head()\n"
   ]
  },
  {
   "cell_type": "markdown",
   "metadata": {
    "_cell_guid": "05a744e6-575b-4c25-a488-67b12fe9b34d",
    "_uuid": "16e5cc9fe487ebf9b9f49ced75a9f5c46a4d9b2a"
   },
   "source": [
    "Much better. Mean ratings now look reliable. "
   ]
  },
  {
   "cell_type": "code",
   "execution_count": null,
   "metadata": {
    "_cell_guid": "763efab9-ac00-4339-9a6c-2aa9799e1ed1",
    "_uuid": "9e94ed5716981fd09ff81bb63da8ac9f78ea8876"
   },
   "outputs": [],
   "source": [
    "ratings.rating.plot.hist(bins=50)\n",
    "plt.title(\"Distribution of Users' Ratings\")\n",
    "plt.ylabel('Number of Ratings')\n",
    "plt.xlabel('Rating (Out of 5)');\n",
    "\n"
   ]
  },
  {
   "cell_type": "markdown",
   "metadata": {
    "_cell_guid": "b9391349-719e-4e50-9bfc-349e224ab6d5",
    "_uuid": "010bee705ff41fc60b0907a5844a5096b4155f1b"
   },
   "source": [
    "# Raters' Age Distribution"
   ]
  },
  {
   "cell_type": "code",
   "execution_count": null,
   "metadata": {
    "_cell_guid": "d3343555-fab6-4ea3-80bc-6dd47b38c647",
    "_uuid": "afa8822d5010e0452fa36c3d6faccfb5c6dad74d"
   },
   "outputs": [],
   "source": [
    "users.age.plot.hist(bins=25)\n",
    "plt.title(\"Distribution of Users' Ages\")\n",
    "plt.ylabel('Number of Users')\n",
    "plt.xlabel('Age');\n"
   ]
  },
  {
   "cell_type": "markdown",
   "metadata": {
    "_cell_guid": "823d024a-62c1-4647-882f-b7147d57d0a8",
    "_uuid": "f0bad85b049086ba15421ef1eea27d72320d3c75"
   },
   "source": [
    "# Pivot Table"
   ]
  },
  {
   "cell_type": "code",
   "execution_count": null,
   "metadata": {
    "_cell_guid": "74059bf0-e6fb-4a8e-82f0-3200d5bbf6ee",
    "_uuid": "08fb549e515f960ff66c3f5ba7aededc41e3496b"
   },
   "outputs": [],
   "source": [
    "test, train = data_split(ratings.values, 0.1)\n",
    "print(train.shape, test.shape)"
   ]
  },
  {
   "cell_type": "code",
   "execution_count": null,
   "metadata": {
    "_cell_guid": "7367280d-85b8-4542-a583-4ea9b36baa6c",
    "_uuid": "0921e036a052767b0ed51f984480ebf39ccb2885"
   },
   "outputs": [],
   "source": [
    "df = pd.DataFrame(train, columns=['user_id', 'movie_id', 'rating'])\n",
    "ratings_matrix = df.pivot_table(index=['movie_id'],columns=['user_id'],values='rating').reset_index(drop=True)\n",
    "ratings_matrix.fillna( 0, inplace = True )\n",
    "ratings_matrix.head()"
   ]
  },
  {
   "cell_type": "code",
   "execution_count": null,
   "metadata": {
    "_cell_guid": "7367280d-85b8-4542-a583-4ea9b36baa6c",
    "_uuid": "0921e036a052767b0ed51f984480ebf39ccb2885"
   },
   "outputs": [],
   "source": [
    "ratings_matrix.shape"
   ]
  },
  {
   "cell_type": "markdown",
   "metadata": {
    "_cell_guid": "74059bf0-e6fb-4a8e-82f0-3200d5bbf6ee",
    "_uuid": "08fb549e515f960ff66c3f5ba7aededc41e3496b"
   },
   "source": [
    "# Cosine Similarity"
   ]
  },
  {
   "cell_type": "code",
   "execution_count": null,
   "metadata": {
    "_cell_guid": "d8e3af94-738c-4e91-a843-5500556bfff2",
    "_uuid": "16e6daf8cb7e51eea7104fee4a49186bc0dccbbc"
   },
   "outputs": [],
   "source": [
    "movie_similarity = 1 - pairwise_distances( ratings_matrix.values, metric=\"cosine\" )\n",
    "np.fill_diagonal( movie_similarity, 0 ) #Filling diagonals with 0s for future use when sorting is done\n",
    "df_movie_similarity = pd.DataFrame( movie_similarity )\n",
    "df_movie_similarity.head(5)"
   ]
  },
  {
   "cell_type": "code",
   "execution_count": null,
   "metadata": {
    "_cell_guid": "d8e3af94-738c-4e91-a843-5500556bfff2",
    "_uuid": "16e6daf8cb7e51eea7104fee4a49186bc0dccbbc"
   },
   "outputs": [],
   "source": [
    "df_movie_similarity.shape"
   ]
  },
  {
   "cell_type": "markdown",
   "metadata": {
    "_cell_guid": "ad5d5ae9-8934-4c73-a7bf-7c3d17acd03a",
    "_uuid": "585e6894cacd4329103af8681bc7731181d4f172"
   },
   "source": [
    "# Recommender Engine"
   ]
  },
  {
   "cell_type": "code",
   "execution_count": null,
   "metadata": {
    "_cell_guid": "f04b12af-6540-4c5e-a4e6-5cd0b515f6d9",
    "_uuid": "b2bda1644e52dc6bfccfb87a8ade07c6c122482f"
   },
   "outputs": [],
   "source": [
    "try:\n",
    "    #user_inp=input('Enter the reference movie title based on which recommendations are to be made: ')\n",
    "    user_inp=\"Speed (1994)\"\n",
    "    inp=movies[movies['title']==user_inp].index.tolist()\n",
    "    inp=inp[0]\n",
    "    \n",
    "except:\n",
    "    print(\"Sorry, the movie is not in the database!\")\n",
    "    \n",
    "movies['similarity'] = df_movie_similarity.iloc[inp]\n",
    "movies.columns = ['movie_id', 'title', 'release_date','similarity']\n",
    "movies.head()\n"
   ]
  },
  {
   "cell_type": "code",
   "execution_count": null,
   "metadata": {
    "_cell_guid": "3644a77e-62cf-4b9c-a6c9-0cd0109a56b5",
    "_uuid": "55399baa0129a97a9f60b341ced6bdac6b359ee0"
   },
   "outputs": [],
   "source": [
    "print(\"Recommended movies based on your choice of \",user_inp ,\": \\n\", movies.sort_values( [\"similarity\"], ascending = False )[1:10])"
   ]
  },
  {
   "cell_type": "markdown",
   "metadata": {
    "_cell_guid": "924f51d6-bd23-40fb-a4c9-91d7563b09fd",
    "_uuid": "8a3b8788c9d740f720fd549efe99e3911492d73d"
   },
   "source": [
    "*This is my first try at recommender engines. Comments/suggestions are appreciated.*"
   ]
  }
 ],
 "metadata": {
  "kernelspec": {
   "display_name": "conda_pytorch_p36",
   "language": "python",
   "name": "conda_pytorch_p36"
  },
  "language_info": {
   "codemirror_mode": {
    "name": "ipython",
    "version": 3
   },
   "file_extension": ".py",
   "mimetype": "text/x-python",
   "name": "python",
   "nbconvert_exporter": "python",
   "pygments_lexer": "ipython3",
   "version": "3.6.5"
  }
 },
 "nbformat": 4,
 "nbformat_minor": 4
}
